{
  "cells": [
    {
      "cell_type": "code",
      "execution_count": null,
      "metadata": {
        "id": "MgaMcxAhdNGB"
      },
      "outputs": [],
      "source": [
        "import numpy as np\n",
        "import pandas as pd\n",
        "from sklearn.metrics.pairwise import pairwise_distances "
      ]
    },
    {
      "cell_type": "code",
      "execution_count": null,
      "metadata": {
        "id": "8DFaNGKSdNGC"
      },
      "outputs": [],
      "source": [
        "# read data\n",
        "df = pd.read_excel(r'C:\\Users\\Ravideep\\Desktop\\expdata.xlsx')"
      ]
    },
    {
      "cell_type": "code",
      "execution_count": null,
      "metadata": {
        "id": "sUNZeT-OdNGC",
        "outputId": "8dc4d6e1-8b84-4b41-8209-dd6a0d84bc70"
      },
      "outputs": [
        {
          "data": {
            "text/html": [
              "<div>\n",
              "<style scoped>\n",
              "    .dataframe tbody tr th:only-of-type {\n",
              "        vertical-align: middle;\n",
              "    }\n",
              "\n",
              "    .dataframe tbody tr th {\n",
              "        vertical-align: top;\n",
              "    }\n",
              "\n",
              "    .dataframe thead th {\n",
              "        text-align: right;\n",
              "    }\n",
              "</style>\n",
              "<table border=\"1\" class=\"dataframe\">\n",
              "  <thead>\n",
              "    <tr style=\"text-align: right;\">\n",
              "      <th></th>\n",
              "      <th>User</th>\n",
              "      <th>Metric</th>\n",
              "      <th>Total clicks</th>\n",
              "      <th>Total Views</th>\n",
              "      <th>Click_by_View</th>\n",
              "    </tr>\n",
              "  </thead>\n",
              "  <tbody>\n",
              "    <tr>\n",
              "      <th>0</th>\n",
              "      <td>1</td>\n",
              "      <td>SalestoDate__Number</td>\n",
              "      <td>24</td>\n",
              "      <td>57</td>\n",
              "      <td>0.421053</td>\n",
              "    </tr>\n",
              "    <tr>\n",
              "      <th>1</th>\n",
              "      <td>1</td>\n",
              "      <td>NumberOfTransactionProduct__Barchart</td>\n",
              "      <td>34</td>\n",
              "      <td>64</td>\n",
              "      <td>0.531250</td>\n",
              "    </tr>\n",
              "    <tr>\n",
              "      <th>2</th>\n",
              "      <td>1</td>\n",
              "      <td>GrowthVsTime__Barchart</td>\n",
              "      <td>29</td>\n",
              "      <td>39</td>\n",
              "      <td>0.743590</td>\n",
              "    </tr>\n",
              "    <tr>\n",
              "      <th>3</th>\n",
              "      <td>1</td>\n",
              "      <td>SalesVsTime__Linechart</td>\n",
              "      <td>12</td>\n",
              "      <td>50</td>\n",
              "      <td>0.240000</td>\n",
              "    </tr>\n",
              "    <tr>\n",
              "      <th>4</th>\n",
              "      <td>1</td>\n",
              "      <td>AverageOrderValueVsTime__Linechart</td>\n",
              "      <td>44</td>\n",
              "      <td>66</td>\n",
              "      <td>0.666667</td>\n",
              "    </tr>\n",
              "    <tr>\n",
              "      <th>...</th>\n",
              "      <td>...</td>\n",
              "      <td>...</td>\n",
              "      <td>...</td>\n",
              "      <td>...</td>\n",
              "      <td>...</td>\n",
              "    </tr>\n",
              "    <tr>\n",
              "      <th>165</th>\n",
              "      <td>30</td>\n",
              "      <td>NumberOfTransactionMarket__Linechart</td>\n",
              "      <td>39</td>\n",
              "      <td>54</td>\n",
              "      <td>0.722222</td>\n",
              "    </tr>\n",
              "    <tr>\n",
              "      <th>166</th>\n",
              "      <td>30</td>\n",
              "      <td>MostAnomalousMarkets__Piechart</td>\n",
              "      <td>56</td>\n",
              "      <td>71</td>\n",
              "      <td>0.788732</td>\n",
              "    </tr>\n",
              "    <tr>\n",
              "      <th>167</th>\n",
              "      <td>30</td>\n",
              "      <td>SalestoDate__Number</td>\n",
              "      <td>33</td>\n",
              "      <td>41</td>\n",
              "      <td>0.804878</td>\n",
              "    </tr>\n",
              "    <tr>\n",
              "      <th>168</th>\n",
              "      <td>30</td>\n",
              "      <td>LeastAnomalousProducts__Barchart</td>\n",
              "      <td>15</td>\n",
              "      <td>18</td>\n",
              "      <td>0.833333</td>\n",
              "    </tr>\n",
              "    <tr>\n",
              "      <th>169</th>\n",
              "      <td>30</td>\n",
              "      <td>TotalGrowth_Number</td>\n",
              "      <td>24</td>\n",
              "      <td>39</td>\n",
              "      <td>0.615385</td>\n",
              "    </tr>\n",
              "  </tbody>\n",
              "</table>\n",
              "<p>170 rows × 5 columns</p>\n",
              "</div>"
            ],
            "text/plain": [
              "     User                                Metric  Total clicks  Total Views  \\\n",
              "0       1                   SalestoDate__Number            24           57   \n",
              "1       1  NumberOfTransactionProduct__Barchart            34           64   \n",
              "2       1                GrowthVsTime__Barchart            29           39   \n",
              "3       1                SalesVsTime__Linechart            12           50   \n",
              "4       1    AverageOrderValueVsTime__Linechart            44           66   \n",
              "..    ...                                   ...           ...          ...   \n",
              "165    30  NumberOfTransactionMarket__Linechart            39           54   \n",
              "166    30        MostAnomalousMarkets__Piechart            56           71   \n",
              "167    30                   SalestoDate__Number            33           41   \n",
              "168    30      LeastAnomalousProducts__Barchart            15           18   \n",
              "169    30                    TotalGrowth_Number            24           39   \n",
              "\n",
              "     Click_by_View  \n",
              "0         0.421053  \n",
              "1         0.531250  \n",
              "2         0.743590  \n",
              "3         0.240000  \n",
              "4         0.666667  \n",
              "..             ...  \n",
              "165       0.722222  \n",
              "166       0.788732  \n",
              "167       0.804878  \n",
              "168       0.833333  \n",
              "169       0.615385  \n",
              "\n",
              "[170 rows x 5 columns]"
            ]
          },
          "execution_count": 47,
          "metadata": {},
          "output_type": "execute_result"
        }
      ],
      "source": [
        "df.drop(columns=['Unnamed: 0'],inplace=True)\n",
        "df"
      ]
    },
    {
      "cell_type": "code",
      "execution_count": null,
      "metadata": {
        "id": "pI0WKQIxdNGD"
      },
      "outputs": [],
      "source": [
        "#label encoding metric column while maintaining the dictionary mapping\n",
        "df[\"Metric\"] = df[\"Metric\"].astype('category')\n",
        "cat_mapping = dict( zip( df['Metric'].cat.codes, df['Metric'] ) )\n",
        "df[\"Metric\"] = df[\"Metric\"].cat.codes"
      ]
    },
    {
      "cell_type": "code",
      "execution_count": null,
      "metadata": {
        "id": "h5m4r42gdNGD"
      },
      "outputs": [],
      "source": [
        "#function for predicting user-user and item-item collaborative engine\n",
        "def predict(feedbacks, similarity, type='user'):\n",
        "    if type == 'user':\n",
        "        mean_user_feedback = feedbacks.mean(axis=1)\n",
        "        feedbacks_diff = (feedbacks - mean_user_feedback[:, np.newaxis])\n",
        "        pred = mean_user_feedback[:, np.newaxis] + similarity.dot(feedbacks_diff) / np.array([np.abs(similarity).sum(axis=1)]).T\n",
        "    elif type == 'item':\n",
        "        pred = feedbacks.dot(similarity) / np.array([np.abs(similarity).sum(axis=1)])\n",
        "    return pred"
      ]
    },
    {
      "cell_type": "code",
      "execution_count": null,
      "metadata": {
        "id": "jB9QjcHhdNGE"
      },
      "outputs": [],
      "source": [
        "def get_recommendations(col_number,no_of_recomm):\n",
        "    column = \"\"\n",
        "    if col_number == 3:\n",
        "        column = \"Total click\"\n",
        "    elif col_number == 4:\n",
        "        column = \"Total View\"\n",
        "    elif col_number == 5:\n",
        "        column = \"Click_by_View\"\n",
        "    else:\n",
        "        print(\"Column entered is invalid!!\")\n",
        "        return\n",
        "    # extracting unique number of users and items\n",
        "    n_users = df.User.unique().shape[0]\n",
        "    n_items = df.Metric.unique().shape[0]\n",
        "    \n",
        "    # creating User X Item matrix\n",
        "    data_matrix = np.zeros((n_users, n_items))\n",
        "    for line in df.itertuples():\n",
        "        data_matrix[line[1]-1, line[2]-1] = line[col_number]\n",
        "        \n",
        "    # User-User and Item-Item collaborative prediction\n",
        "    user_similarity = pairwise_distances(data_matrix, metric='cosine')\n",
        "    item_similarity = pairwise_distances(data_matrix.T, metric='cosine')\n",
        "    pd.DataFrame(data = user_similarity).to_excel(\"User similarity Matrix using column- \"+column+\".xlsx\")\n",
        "    pd.DataFrame(data = item_similarity).to_excel(\"Item similarity Matrix using column- \"+column+\".xlsx\")\n",
        "    \n",
        "    user_prediction = predict(data_matrix, user_similarity, type='user')\n",
        "    item_prediction = predict(data_matrix, item_similarity, type='item')\n",
        "    pd.DataFrame(data = user_prediction).to_excel(\"User-User prediction Matrix (User X Item) using column- \"+column+\".xlsx\")\n",
        "    pd.DataFrame(data = item_prediction).to_excel(\"Item-Item prediction Matrix (User X Item) using column- \"+column+\".xlsx\")\n",
        "    \n",
        "    # averaging User-User and Item-Item prediction scores\n",
        "    prediction_matrix = (user_prediction + item_prediction)/2\n",
        "    pd.DataFrame(data = prediction_matrix).to_excel(\"Prediction Matrix using column- \"+column+\".xlsx\")\n",
        "    \n",
        "    # Generating top 5 recommendations for each user\n",
        "    recommendations = pd.DataFrame(columns = ['UserID', \"Recommended Metrics (Highest to Lowest rating)\"])\n",
        "    for i in range(len(data_matrix)):\n",
        "        # filtering out present metrics for each user\n",
        "        t = data_matrix[i].copy()\n",
        "        t = np.where(t==0, 1, t)\n",
        "        t = np.where(t>1, 0, t)\n",
        "        y = prediction_matrix[i] * t\n",
        "        # selecting top no_of_recomm recommended metrics\n",
        "        indexes = sorted(range(len(y)), key=lambda j: y[j])[-no_of_recomm:]\n",
        "        indexes.reverse()\n",
        "        # mapping labels with metric names and saving the recommendations\n",
        "        string = \"\"\n",
        "        for k in indexes:\n",
        "            string += cat_mapping[k] + \"|\"\n",
        "        string = string[:-1]\n",
        "        met = \"Metric \"\n",
        "        lst = []\n",
        "        for l in range(no_of_recomm):\n",
        "            lst.append(met+str(l+1))\n",
        "        recommendations = recommendations.append({'UserID' : i+1, 'Recommended Metrics (Highest to Lowest rating)' : string},ignore_index = True)\n",
        "        recommendations[lst] = recommendations[\"Recommended Metrics (Highest to Lowest rating)\"].str.split('|',expand=True)\n",
        "    recommendations.drop(columns=[\"Recommended Metrics (Highest to Lowest rating)\"],inplace=True)\n",
        "    recommendations.to_excel(\"Recommendations using column- \"+column+\".xlsx\")\n",
        "    return\n"
      ]
    },
    {
      "cell_type": "code",
      "execution_count": null,
      "metadata": {
        "scrolled": true,
        "id": "S294nc3xdNGE",
        "outputId": "cd31a4c9-b013-4ea5-c9e9-6c162aebf6d6"
      },
      "outputs": [
        {
          "name": "stdout",
          "output_type": "stream",
          "text": [
            "Select\n",
            "0 for Total clicks\n",
            "1 for Total Views\n",
            "2 for Click by View\n",
            "2\n",
            "Enter number of recommendations required5\n"
          ]
        }
      ],
      "source": [
        "command = input(\"Select\\n0 for Total clicks\\n1 for Total Views\\n2 for Click by View\\n\")\n",
        "no_of_recomm = input(\"Enter number of recommendations required\")\n",
        "# recommendation system\n",
        "get_recommendations(int(command)+3,int(no_of_recomm))"
      ]
    },
    {
      "cell_type": "code",
      "execution_count": null,
      "metadata": {
        "id": "k285eIC7dNGE"
      },
      "outputs": [],
      "source": [
        ""
      ]
    }
  ],
  "metadata": {
    "kernelspec": {
      "display_name": "Python 3",
      "language": "python",
      "name": "python3"
    },
    "language_info": {
      "codemirror_mode": {
        "name": "ipython",
        "version": 3
      },
      "file_extension": ".py",
      "mimetype": "text/x-python",
      "name": "python",
      "nbconvert_exporter": "python",
      "pygments_lexer": "ipython3",
      "version": "3.8.2"
    },
    "colab": {
      "name": "Hybrid collaborative filtering recommendation engine.ipynb",
      "provenance": []
    }
  },
  "nbformat": 4,
  "nbformat_minor": 0
}